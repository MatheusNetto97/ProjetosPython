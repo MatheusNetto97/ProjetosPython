{
 "cells": [
  {
   "cell_type": "code",
   "execution_count": 1,
   "id": "7cce2608",
   "metadata": {},
   "outputs": [],
   "source": [
    "# MANIPULAÇÃO DE CADEIAD E TYEXTO"
   ]
  },
  {
   "cell_type": "code",
   "execution_count": 9,
   "id": "39c898bd",
   "metadata": {},
   "outputs": [
    {
     "name": "stdout",
     "output_type": "stream",
     "text": [
      "s\n"
     ]
    }
   ],
   "source": [
    "frase = \"Curso video python\"\n",
    "print(frase[3])"
   ]
  },
  {
   "cell_type": "code",
   "execution_count": 10,
   "id": "ecaef4be",
   "metadata": {},
   "outputs": [
    {
     "name": "stdout",
     "output_type": "stream",
     "text": [
      "Curso\n"
     ]
    }
   ],
   "source": [
    "frase = \"Curso video python\"\n",
    "print(frase[0:5])"
   ]
  },
  {
   "cell_type": "code",
   "execution_count": 11,
   "id": "d083fd3b",
   "metadata": {},
   "outputs": [
    {
     "name": "stdout",
     "output_type": "stream",
     "text": [
      "Curso em vide\n"
     ]
    }
   ],
   "source": [
    "frase = \"Curso em video python\"\n",
    "print(frase[:13])"
   ]
  },
  {
   "cell_type": "code",
   "execution_count": 13,
   "id": "b8d3735e",
   "metadata": {},
   "outputs": [
    {
     "name": "stdout",
     "output_type": "stream",
     "text": [
      "us ie y\n"
     ]
    }
   ],
   "source": [
    "frase = \"Curso video python\"\n",
    "print(frase[1:15:2])"
   ]
  },
  {
   "cell_type": "code",
   "execution_count": 14,
   "id": "218632a2",
   "metadata": {},
   "outputs": [
    {
     "name": "stdout",
     "output_type": "stream",
     "text": [
      "Crovdopto\n"
     ]
    }
   ],
   "source": [
    "frase = \"Curso video python\"\n",
    "print(frase[::2])"
   ]
  },
  {
   "cell_type": "code",
   "execution_count": 15,
   "id": "ad0c0f38",
   "metadata": {},
   "outputs": [
    {
     "name": "stdout",
     "output_type": "stream",
     "text": [
      "3\n"
     ]
    }
   ],
   "source": [
    "#usando a função count()\n",
    "frase = \"Curso video python\"\n",
    "print(frase.count(\"o\"))"
   ]
  },
  {
   "cell_type": "code",
   "execution_count": 17,
   "id": "8ef814d3",
   "metadata": {},
   "outputs": [
    {
     "name": "stdout",
     "output_type": "stream",
     "text": [
      "18\n"
     ]
    }
   ],
   "source": [
    "#usando a função len()\n",
    "frase = \"Curso video python\"\n",
    "print(len(frase))"
   ]
  },
  {
   "cell_type": "code",
   "execution_count": 22,
   "id": "05fe3759",
   "metadata": {},
   "outputs": [
    {
     "name": "stdout",
     "output_type": "stream",
     "text": [
      "4\n"
     ]
    }
   ],
   "source": [
    "#usando função find()\n",
    "frase = \"Curso video python\"\n",
    "print(frase.find(\"o\"))"
   ]
  },
  {
   "cell_type": "code",
   "execution_count": 25,
   "id": "1946ee85",
   "metadata": {},
   "outputs": [
    {
     "name": "stdout",
     "output_type": "stream",
     "text": [
      "video esta na no texto\n"
     ]
    }
   ],
   "source": [
    "# usando a função \" in \"\n",
    "frase = \"Curso video python\"\n",
    "if \"video\" in frase:\n",
    "    print(\"video esta na no texto\")\n",
    "else:\n",
    "    print(\"nao esta contido\")"
   ]
  },
  {
   "cell_type": "code",
   "execution_count": 31,
   "id": "416a60a8",
   "metadata": {},
   "outputs": [
    {
     "name": "stdout",
     "output_type": "stream",
     "text": [
      "['Curso', 'video', 'python']\n"
     ]
    }
   ],
   "source": [
    "# usando função split\n",
    "frase = \"Curso video python\"\n",
    "f = frase.split()\n",
    "print(f)"
   ]
  },
  {
   "cell_type": "code",
   "execution_count": 35,
   "id": "1ac2f285",
   "metadata": {},
   "outputs": [
    {
     "name": "stdout",
     "output_type": "stream",
     "text": [
      "1-2-3-4-5-6\n",
      "Curso video python\n"
     ]
    }
   ],
   "source": [
    "# usando função join()\n",
    "numero = ['1', '2', '3','4', '5', '6']\n",
    "n = '-'.join(numero)\n",
    "print(n)\n",
    "frase = ['Curso', 'video', 'python']\n",
    "f = \" \".join(frase)\n",
    "print(f)"
   ]
  },
  {
   "cell_type": "code",
   "execution_count": null,
   "id": "bf78124d",
   "metadata": {},
   "outputs": [],
   "source": []
  },
  {
   "cell_type": "code",
   "execution_count": null,
   "id": "a35c995b",
   "metadata": {},
   "outputs": [],
   "source": []
  },
  {
   "cell_type": "code",
   "execution_count": null,
   "id": "ba013697",
   "metadata": {},
   "outputs": [],
   "source": []
  },
  {
   "cell_type": "code",
   "execution_count": null,
   "id": "7db89066",
   "metadata": {},
   "outputs": [],
   "source": []
  },
  {
   "cell_type": "code",
   "execution_count": null,
   "id": "c9a30c81",
   "metadata": {},
   "outputs": [],
   "source": []
  },
  {
   "cell_type": "code",
   "execution_count": null,
   "id": "23869d72",
   "metadata": {},
   "outputs": [],
   "source": []
  },
  {
   "cell_type": "code",
   "execution_count": null,
   "id": "72192258",
   "metadata": {},
   "outputs": [],
   "source": []
  }
 ],
 "metadata": {
  "kernelspec": {
   "display_name": "Python 3 (ipykernel)",
   "language": "python",
   "name": "python3"
  },
  "language_info": {
   "codemirror_mode": {
    "name": "ipython",
    "version": 3
   },
   "file_extension": ".py",
   "mimetype": "text/x-python",
   "name": "python",
   "nbconvert_exporter": "python",
   "pygments_lexer": "ipython3",
   "version": "3.10.9"
  }
 },
 "nbformat": 4,
 "nbformat_minor": 5
}
