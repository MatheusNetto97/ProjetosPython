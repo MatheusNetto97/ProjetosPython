{
 "cells": [
  {
   "cell_type": "code",
   "execution_count": 2,
   "id": "73e5526f",
   "metadata": {},
   "outputs": [
    {
     "name": "stdout",
     "output_type": "stream",
     "text": [
      "Requirement already satisfied: reportlab in c:\\users\\pichau\\anaconda3\\lib\\site-packages (4.0.4)\n",
      "Requirement already satisfied: pillow>=9.0.0 in c:\\users\\pichau\\anaconda3\\lib\\site-packages (from reportlab) (9.4.0)\n"
     ]
    }
   ],
   "source": [
    "!pip install reportlab"
   ]
  },
  {
   "cell_type": "code",
   "execution_count": 1,
   "id": "9b39b60c",
   "metadata": {},
   "outputs": [
    {
     "name": "stdout",
     "output_type": "stream",
     "text": [
      "Digite o número da conta: 740845\n",
      "Digite o CPF do titular da conta: 41915518847\n",
      "Digite o nome do titular da conta: matheus\n",
      "Digite o saldo inicial da conta: 1500\n",
      "Digite o valor a ser depositado: 500\n",
      "Digite o valor a ser sacado: 1000\n",
      "Saque realizado com sucesso.\n",
      "Titular: matheus\n",
      "Numero: 740845\n",
      "CPF: 41915518847\n",
      "Saldo: 1000.0\n"
     ]
    }
   ],
   "source": [
    "from reportlab.lib.pagesizes import letter\n",
    "from reportlab.pdfgen import canvas\n",
    "\n",
    "class Conta:\n",
    "    def __init__(self, numero, cpf, nomeTitular, saldo):\n",
    "        self.numero = numero\n",
    "        self.cpf = cpf\n",
    "        self.nomeTitular = nomeTitular\n",
    "        self.saldo = saldo\n",
    "        \n",
    "    @property\n",
    "    def saldo(self):\n",
    "      return self._saldo\n",
    "\n",
    "    @saldo.setter\n",
    "    def saldo(self, novo_saldo):\n",
    "        if novo_saldo < 0:\n",
    "            print(\"Saldo inválido\")\n",
    "        else:\n",
    "            self._saldo = novo_saldo\n",
    "\n",
    "    def depositar(self, valor):\n",
    "        self.saldo += valor\n",
    "        \n",
    "    def sacar(self, valor):\n",
    "        saldo_total = self.saldo + valor\n",
    "        if valor <= saldo_total:\n",
    "            self.saldo -= valor\n",
    "            print(\"Saque realizado com sucesso.\")\n",
    "        else:\n",
    "            print(\"Saldo insuficiente.\")\n",
    "        \n",
    "    def gerar_extrato(self):\n",
    "        print(f\"Titular: {self.nomeTitular}\")\n",
    "        print(f\"Numero: {self.numero}\")\n",
    "        print(f\"CPF: {self.cpf}\")\n",
    "        print(f\"Saldo: {self.saldo}\")\n",
    "        \n",
    "        # Gerar arquivo PDF com o extrato\n",
    "        c = canvas.Canvas(\"extrato.pdf\", pagesize=letter)\n",
    "        c.setFont(\"Helvetica\", 12)\n",
    "        c.drawString(100, 700, f\"Titular: {self.nomeTitular}\")\n",
    "        c.drawString(100, 680, f\"Numero: {self.numero}\")\n",
    "        c.drawString(100, 660, f\"CPF: {self.cpf}\")\n",
    "        c.drawString(100, 640, f\"Saldo: {self.saldo}\")\n",
    "        c.save()\n",
    "\n",
    "numero = int(input(\"Digite o número da conta: \"))\n",
    "cpf = input(\"Digite o CPF do titular da conta: \")\n",
    "nomeTitular = input(\"Digite o nome do titular da conta: \")\n",
    "saldoInicial = float(input(\"Digite o saldo inicial da conta: \"))\n",
    "\n",
    "c1 = Conta(numero, cpf, nomeTitular, saldoInicial)\n",
    "\n",
    "valorDeposito = float(input(\"Digite o valor a ser depositado: \"))\n",
    "c1.depositar(valorDeposito)\n",
    "\n",
    "valorSaque = float(input(\"Digite o valor a ser sacado: \"))\n",
    "c1.sacar(valorSaque)\n",
    "\n",
    "c1.gerar_extrato()\n"
   ]
  },
  {
   "cell_type": "code",
   "execution_count": null,
   "id": "f9f9a568",
   "metadata": {},
   "outputs": [],
   "source": []
  },
  {
   "cell_type": "code",
   "execution_count": null,
   "id": "78f32ef5",
   "metadata": {},
   "outputs": [],
   "source": []
  },
  {
   "cell_type": "code",
   "execution_count": null,
   "id": "a46ce416",
   "metadata": {},
   "outputs": [],
   "source": []
  },
  {
   "cell_type": "code",
   "execution_count": null,
   "id": "a464d975",
   "metadata": {},
   "outputs": [],
   "source": []
  },
  {
   "cell_type": "code",
   "execution_count": null,
   "id": "0a4b0543",
   "metadata": {},
   "outputs": [],
   "source": []
  },
  {
   "cell_type": "code",
   "execution_count": null,
   "id": "442b19ea",
   "metadata": {},
   "outputs": [],
   "source": []
  },
  {
   "cell_type": "code",
   "execution_count": null,
   "id": "606486f0",
   "metadata": {},
   "outputs": [],
   "source": []
  },
  {
   "cell_type": "code",
   "execution_count": null,
   "id": "9ce8e059",
   "metadata": {},
   "outputs": [],
   "source": []
  },
  {
   "cell_type": "code",
   "execution_count": null,
   "id": "8f4caeee",
   "metadata": {},
   "outputs": [],
   "source": []
  },
  {
   "cell_type": "code",
   "execution_count": null,
   "id": "6b814301",
   "metadata": {},
   "outputs": [],
   "source": []
  },
  {
   "cell_type": "code",
   "execution_count": null,
   "id": "e89dd1f5",
   "metadata": {},
   "outputs": [],
   "source": []
  }
 ],
 "metadata": {
  "kernelspec": {
   "display_name": "Python 3 (ipykernel)",
   "language": "python",
   "name": "python3"
  },
  "language_info": {
   "codemirror_mode": {
    "name": "ipython",
    "version": 3
   },
   "file_extension": ".py",
   "mimetype": "text/x-python",
   "name": "python",
   "nbconvert_exporter": "python",
   "pygments_lexer": "ipython3",
   "version": "3.10.9"
  }
 },
 "nbformat": 4,
 "nbformat_minor": 5
}
