{
 "cells": [
  {
   "cell_type": "code",
   "execution_count": null,
   "id": "a3b70d02",
   "metadata": {},
   "outputs": [],
   "source": [
    "n1 = int(input(\"digite um numero:\"))\n",
    "n2 = int(input(\"digite outro numero: \"))\n",
    "a = n1 + n2\n",
    "b = n1 - n2\n",
    "c = n1 * n2\n",
    "d = n1 / n2\n",
    "e = n1 ** n2\n",
    "\n",
    "print(f\"a soma de a é {a};\\n a subtração {b};\\n a multiplicação é {c};\")\n",
    "print(f\" a divisao é {d};\\n a potencia é {e}\")"
   ]
  },
  {
   "cell_type": "code",
   "execution_count": null,
   "id": "f98632d3",
   "metadata": {},
   "outputs": [],
   "source": [
    "#Desafio 05 - digite um numero e mostre seu antecessor e seu sucessor\n",
    "n1 = int(input(\"digite um numero:\"))\n",
    "a = n1 - 1\n",
    "b = n1 + 1\n",
    "print(f\"os antecessores e sucessores {n1}, sao {a}, e {b}\")"
   ]
  },
  {
   "cell_type": "code",
   "execution_count": null,
   "id": "c02eea09",
   "metadata": {},
   "outputs": [],
   "source": [
    "#Desafio 06 - \n",
    "n1 = int(input(\"digite um numero: \"))\n",
    "a = n1*2\n",
    "b = n1*3\n",
    "c = round(n1 ** (1/2), 2)\n",
    "\n",
    "print(f\"os devido valores de {n1}, são:\\n DOBRO:{a};\\n o TRIPLO:{b};\\n RAIZ:{c}\")"
   ]
  },
  {
   "cell_type": "code",
   "execution_count": null,
   "id": "90b367f3",
   "metadata": {},
   "outputs": [],
   "source": [
    "n1 = float(input(\"digite a nota do aluno: \"))\n",
    "n2 = float(input(\"digite outra nota do aluno: \"))\n",
    "a = round((n1 + n2) / 2)\n",
    "if a > 7:\n",
    "    print(f\"Aprovadoa média do aluno é {a}\")\n",
    "elif a == 7:\n",
    "    print(f\"Aprovado, a média do aluno é {a}\")\n",
    "else:\n",
    "    print(f\"Reprovado,a média do aluno é {a}\")"
   ]
  },
  {
   "cell_type": "code",
   "execution_count": null,
   "id": "703b4ce3",
   "metadata": {},
   "outputs": [],
   "source": [
    "n1 = float(input(\"Digite o valor em metros: \"))\n",
    "a = n1 * 100\n",
    "b = n1 * 1000\n",
    "print(f\"o valor de {n1} metros,\\n centimetros é {a},\\n milimetros {b}\")"
   ]
  },
  {
   "cell_type": "code",
   "execution_count": null,
   "id": "a957dcd7",
   "metadata": {},
   "outputs": [],
   "source": []
  },
  {
   "cell_type": "code",
   "execution_count": null,
   "id": "560b81bd",
   "metadata": {},
   "outputs": [],
   "source": [
    "#Desafio 09\n",
    "n1 = int(input(\"Digite um numero: \"))\n",
    "for i in range(1, 11):\n",
    "    resultado = n1 * i\n",
    "    print(f\"{n1} x {i} = {resultado}\")\n"
   ]
  },
  {
   "cell_type": "code",
   "execution_count": null,
   "id": "1ef8950a",
   "metadata": {},
   "outputs": [],
   "source": [
    "#Desafio 10\n",
    "n1 = float(input(\"Qual valor de dinheiro, R$: \")) #valore em reias\n",
    "n2 = 5.30 #taxa de cambio\n",
    "x = round(n1 / n2, 2) \n",
    "print(f\"Os valores em dolar que podemos comprar é de US${x}\")"
   ]
  },
  {
   "cell_type": "code",
   "execution_count": null,
   "id": "0680135d",
   "metadata": {},
   "outputs": [],
   "source": [
    "#Desafio 11 - LER Altura x largura; calcular area; nªtinta para pintar (1l tinta pinta = 2m²) \n",
    "a = float(input(\"valor da altura: \"))\n",
    "b = float(input(\"valor da largura: \"))\n",
    "x = a * b #calculo da area\n",
    "y = x / 2\n",
    "print(f\" a area calculada da parede é de {x}m², e sera utilizado {y}L de tinta para pintar a parede\")\n"
   ]
  },
  {
   "cell_type": "code",
   "execution_count": null,
   "id": "4839a4ae",
   "metadata": {},
   "outputs": [],
   "source": [
    "#Desafio 12 - algoritmo que leia preço de um produto, mostrando novo preço com 5% de desconto\n",
    "x = float(input(\"Digite o valor do produto: \"))\n",
    "y = x * 0.05\n",
    "novo_preco = round(x - y)\n",
    "print(f\"o novo valor do produto com 5% de desconte sera de R${novo_preco}\")"
   ]
  },
  {
   "cell_type": "code",
   "execution_count": null,
   "id": "86bcedf6",
   "metadata": {},
   "outputs": [],
   "source": [
    "#Desafio 13 - algoratimo que leia o salario de funcionario e mostre novo salario, com 15% de aumento\n",
    "x = float(input(\"valor do salario do funcionario: \"))\n",
    "y = x * 0.15\n",
    "novo_salario = round(x + y)\n",
    "print(f\" o novo salario do funcionario com aumento de 15% sera de R$:{novo_salario}\")"
   ]
  },
  {
   "cell_type": "code",
   "execution_count": null,
   "id": "5e8bc9e7",
   "metadata": {},
   "outputs": [],
   "source": [
    "#Desafio 14 - Transformando as temperatura\n",
    "c = float(input(\"Qual temperatura em ºc: \"))\n",
    "f = (c * 1.8) + 32\n",
    "k = c + 273.15\n",
    "print(f\"a temperatura em celsius é:{c}ºc,\\n em Fahrenheit é:{f}ºF,\\n em Kelvins é :{k} \")"
   ]
  },
  {
   "cell_type": "code",
   "execution_count": null,
   "id": "47a0a288",
   "metadata": {},
   "outputs": [],
   "source": [
    "#Desafio 15 - elabore um algoritimo que pergunte a quantidade km, por um carro alugado;\n",
    "#Quantidade de dias que foi alugado; calcular o preço a pagar (R$60/dia e R$0,15/km)\n",
    "k = float(input(\"Qual a quantidade de km rodado ?: \"))\n",
    "d = int(input(\"Qual a quantidade de dias alugados?: \"))\n",
    "x = (60 * d) + (0.15 * k)\n",
    "print(f\"o preço total a pagar é: R${x:.2f}\")\n"
   ]
  },
  {
   "cell_type": "code",
   "execution_count": null,
   "id": "8474ab5b",
   "metadata": {
    "is_executing": true
   },
   "outputs": [],
   "source": [
    "import math\n",
    "n = int(input(\"Digite um numero: \"))\n",
    "raiz = math.sqrt(n)\n",
    "print(f\"a raiz de {n} é igual a {raiz:.2f}\")"
   ]
  },
  {
   "cell_type": "code",
   "execution_count": null,
   "id": "d623665f",
   "metadata": {},
   "outputs": [],
   "source": [
    "#Desafio 16 - crie um programa que leia um numero real e mostre na tela a sua porção inteira\n",
    "from math import trunc\n",
    "n = float(input(\"Digite um numero inteiro: \"))\n",
    "x = trunc(n)\n",
    "print(f\"o valor do numero real {n} tem como sua porção inteira {x}\")"
   ]
  },
  {
   "cell_type": "code",
   "execution_count": null,
   "id": "229b97a3",
   "metadata": {},
   "outputs": [],
   "source": [
    "#Desafio 17 - Programa que leia comprimento do cateto oposto e adjacente de um triangulo;\n",
    "#calcule e mostre o comprimento da hipoternusa\n",
    "import math\n",
    "x = float(input(\"Digite o lado a do trigulo: \"))\n",
    "y = float(input(\"Digite o lado b do tringulo: \"))\n",
    "# h = (x ** 2 + y ** 2) ** 0.5  \"metodo matematico\" \n",
    "hi = math.hypot(x, y)\n",
    "\n",
    "print(f\"o valor de hipoternusa é: {hi:.2f}\")\n",
    "\n",
    "\n"
   ]
  },
  {
   "cell_type": "code",
   "execution_count": null,
   "id": "4aa6c15e",
   "metadata": {},
   "outputs": [],
   "source": [
    "#Desafio 18 - faça um programa que leia um angulo qualquer emostre na tela o valor de sen; cos; teg\n",
    "import math\n",
    "a = int(input(\"Digite o valor do angulo: °\"))\n",
    "x = math.radians(a)\n",
    "valor_sen = math.sin(x)\n",
    "valor_cos = math.cos(x)\n",
    "valor_tan = math.tan(x)\n",
    "print(f\"sen: {valor_sen:.2f}\")\n",
    "print(f\"con: {valor_cos:.2f}\")\n",
    "print(f\"tan: {valor_tan:.2f}\")\n",
    "\n"
   ]
  },
  {
   "cell_type": "code",
   "execution_count": null,
   "id": "4a566613",
   "metadata": {},
   "outputs": [],
   "source": [
    "#Desafio 19 - algoritimo onde ira sortear um nome de um aluno dentro da sala de aula\n",
    "import random\n",
    "nomes = ['João', 'Maria', 'Pedro', 'Ana', 'Carlos', 'Mariana', 'Lucas', 'Isabela']\n",
    "sorteio = random.choice(nomes)\n",
    "print(f\" nome aleatorio sorteado foi: {sorteio}\")\n",
    "\n",
    "\n"
   ]
  },
  {
   "cell_type": "code",
   "execution_count": null,
   "id": "e06b974e",
   "metadata": {},
   "outputs": [],
   "source": [
    "#Desafio 20 - algoritimo onde ira sortear nomes dos alunos dentro da sala de aula.\n",
    "import random\n",
    "alunos = ['João', 'Maria', 'Pedro', 'Ana', 'Carlos', 'Mariana', 'Lucas', 'Isabela']\n",
    "sorteio = random.sample(alunos, k=4)\n",
    "print(f\"nomes sorteados foram: {sorteio}\")\n",
    "\n",
    "\n"
   ]
  },
  {
   "cell_type": "code",
   "execution_count": null,
   "id": "31547dbf",
   "metadata": {},
   "outputs": [],
   "source": [
    "#Desafio 21 - faça um programa que abra e reproduza um arquivo de audio.mp3\n",
    "!pip install pygame\n",
    "\n"
   ]
  },
  {
   "cell_type": "code",
   "execution_count": null,
   "id": "30fc1059",
   "metadata": {},
   "outputs": [],
   "source": [
    "#imprtar a biblioteca pygame\n",
    "import pygame\n",
    "#iniciar o mixer pygame\n",
    "pygame.mixer.init()\n",
    "#carregar um arquivo mp3\n",
    "pygame.mixer.music.load(\"C:\\\\Users\\\\Pichau\\\\Downloads\\\\innerbloom.mp3\")\n",
    "#Reproduzir o audio\n",
    "pygame.mixer.music.play()\n",
    "#mantem o programa em execução ate a reprodução concluir:\n",
    "while pygame.mixer.music.get_busy():\n",
    "    continue\n",
    "\n",
    "\n"
   ]
  },
  {
   "cell_type": "code",
   "execution_count": null,
   "id": "e263a0f3",
   "metadata": {},
   "outputs": [],
   "source": [
    "import pygame\n",
    "\n",
    "# Inicializar o mixer do pygame\n",
    "pygame.mixer.init()\n",
    "\n",
    "# Carregar o arquivo de áudio\n",
    "pygame.mixer.music.load(\"C:\\\\Users\\\\Pichau\\\\Downloads\\\\innerbloom.mp3\")\n",
    "\n",
    "# Reproduzir o áudio\n",
    "pygame.mixer.music.play()\n",
    "\n",
    "# Manter o programa em execução até a reprodução ser concluída\n",
    "while pygame.mixer.music.get_busy():\n",
    "    # Verificar se o usuário pressionou a tecla 'P' para pausar\n",
    "    if pygame.key.get_pressed()[pygame.K_p]:\n",
    "        pygame.mixer.music.pause()\n",
    "        print(\"Pausado\")\n",
    "    \n",
    "    # Verificar se o usuário pressionou a tecla 'R' para retomar a reprodução\n",
    "    if pygame.key.get_pressed()[pygame.K_r]:\n",
    "        pygame.mixer.music.unpause()\n",
    "        print(\"Retomado\")\n"
   ]
  },
  {
   "cell_type": "code",
   "execution_count": null,
   "id": "afac283c",
   "metadata": {
    "scrolled": false
   },
   "outputs": [],
   "source": [
    "#desafio 22 - crie um programa que leia nome completo e mostre\n",
    "\n",
    "nome = str(input(\"Digite seu nome:\")).strip()\n",
    "\n",
    "#o nome com todas as letras MAIUSCULAS\n",
    "txt1 = nome.upper()\n",
    "\n",
    "#o nome com todas as letras minusculas\n",
    "txt2 = nome.lower()\n",
    "\n",
    "#quantas letras ao todo\n",
    "txt3 = len(nome.replace(\"\", \"\"))\n",
    "\n",
    "#quantas letras tem o primeiro nome\n",
    "txt4 = nome.split()[0]\n",
    "r = len(txt4)\n",
    "\n",
    "print(f\"\"\"nome maiusculo {txt1},\\n nome minusculo {txt2},\\n quantas letras tem nome {txt3}\n",
    "quantas letras tem primeiro nome {r}\"\"\")"
   ]
  },
  {
   "cell_type": "code",
   "execution_count": null,
   "id": "5b13c652",
   "metadata": {},
   "outputs": [],
   "source": [
    "#desafio 23 - Faça um programa que leia um número de 0 a 9999 e \n",
    "#mostre na tela cada um dos dígitos separados\n",
    "#digite 1834 e mostre = unidade, dezena, centena e milhar\n",
    "n = int(input(\"digite numero de 0 a 9999:\"))\n",
    "\n",
    "unidade = n % 10\n",
    "dezena = (n // 10) % 10\n",
    "centena = (n // 100) % 10\n",
    "milhar = (n // 1000) % 10\n",
    "\n",
    "print(\"unidade: \", unidade)\n",
    "print(\"dezena: \", dezena)\n",
    "print(\"centena: \", centena)\n",
    "print(\"milhar: \", milhar)\n",
    "\n",
    "\n"
   ]
  },
  {
   "cell_type": "code",
   "execution_count": null,
   "id": "8c9f23a7",
   "metadata": {},
   "outputs": [],
   "source": [
    "#desafio 24 - Crie um programa que leia o nome de uma cidade diga se ela começa ou não com o nome \"SANTO\".\n",
    "cidade = input(\"digite nome cidade:\")\n",
    "if \"santo\" in cidade:\n",
    "    print('possui nome santos na cidade')\n",
    "if \"santo\" not in cidade:\n",
    "    print(\"nao tem santos no nome da cidade\")\n",
    "\n"
   ]
  },
  {
   "cell_type": "code",
   "execution_count": null,
   "id": "a1694e1c",
   "metadata": {},
   "outputs": [],
   "source": [
    "#desafio 25 - Crie um programa que leia o nome de uma pessoa e diga se ela tem \"SILVA\" no nome.\n",
    "#use true / false\n",
    "nome = input(\"digite seu nome:\")\n",
    "if 'silva' in nome:\n",
    "    print('sim  tem silve em seu nome')\n",
    "else:\n",
    "    print('ela nao tem silva em seu nome')"
   ]
  },
  {
   "cell_type": "code",
   "execution_count": null,
   "id": "c37fd7f5",
   "metadata": {},
   "outputs": [],
   "source": [
    "# Desafio 26 - Faça um programa que leia uma \n",
    "#frase pelo teclado e mostre quantas vezes aparece a letra \"A\", \n",
    "#em que posição ela aparece a primeira vez e em que posição ela aparece a última vez.\n",
    "palavra = str(input(\"digite uma palavra: \")).strip()\n",
    "x = palavra.find(\"a\")\n",
    "print(f\"a letra a aparece {x}\")                       \n",
    "y = palavra.count('a')\n",
    "print(f\"letra a aparece {y}\")\n",
    "\n",
    "\n",
    "\n",
    "\n",
    "\n",
    "\n"
   ]
  },
  {
   "cell_type": "code",
   "execution_count": null,
   "id": "75a79f30",
   "metadata": {
    "collapsed": true
   },
   "outputs": [],
   "source": [
    "#Desafio 27 - Faça um programa que leia o nome completo de uma pessoa, \n",
    "#mostrando em seguida o primeiro e o último nome separadamente.\n",
    "nome_completo = str(input(\"Digite o seu nome completo: \")).strip()\n",
    "\n",
    "# Separando o nome completo em partes\n",
    "partes_nome = nome_completo.split()\n",
    "\n",
    "# Obtendo o primeiro nome\n",
    "primeiro_nome = partes_nome[0]\n",
    "\n",
    "# Obtendo o último nome\n",
    "ultimo_nome = partes_nome[-1]\n",
    "\n",
    "# Imprimindo os resultados\n",
    "print(\"Primeiro nome:\", primeiro_nome)\n",
    "print(\"Último nome:\", ultimo_nome)"
   ]
  },
  {
   "cell_type": "code",
   "execution_count": null,
   "id": "786d65b8",
   "metadata": {
    "collapsed": true
   },
   "outputs": [],
   "source": [
    "#Desafio 28 - escreva um progama que faça o computador pensar em um numero interiro ente 0 e 5 e peça para o usuario\n",
    "#tentar descrobrir qual foi o nuemro escolhi pelo computador\n",
    "import random\n",
    "\n",
    "pc = random.randint(0, 5)\n",
    "\n",
    "print(\"tente adivinha qual numero estou pensando\")\n",
    "numero_usuario = int(input(\"digite um numero de 0 a 5: \"))\n",
    "if pc == numero_usuario:\n",
    "    print(\"parabens, voce acertou\")\n",
    "else:\n",
    "    print(\"infelizmente voce errrou, tente novamente\")\n"
   ]
  },
  {
   "cell_type": "code",
   "execution_count": null,
   "id": "43df7f52",
   "metadata": {},
   "outputs": [],
   "source": [
    "#Desafio 29 - escreva programa que leia a velocidade de um carro\n",
    "#se ele passar de 80km/h, mostra mesagem que foi multado\n",
    "#a multa deve custar R$ 7,00/km acima do limtie\n",
    "\n",
    "\n",
    "radar = float(input(\"velociade do veículo: km/h\"))\n",
    "print(radar, \"km/h\")\n",
    "if radar > 80:\n",
    "    print(f\"voce foi multado, sua velocidade esta acima do permitido\")\n",
    "    multa = (radar - 80) * 7\n",
    "    print(f\"voce deve pagar uma multa no valor de R${multa} \")\n",
    "else:\n",
    "    print(\"Dentro do limite da velocidade\")\n",
    "\n",
    "#calculo da multa de velocidade:\n",
    "\n",
    "\n"
   ]
  },
  {
   "cell_type": "code",
   "execution_count": null,
   "id": "da4eb94c",
   "metadata": {},
   "outputs": [],
   "source": [
    "#Desafio 30 - crie um progama que leia o numero interiro e mostre sa tela se é par ou impar\n",
    "\n",
    "numero = int(input(\"Digite um numero interio:\"))\n",
    "\n",
    "if (numero%2) == 0:\n",
    "    print(\"é um numero par\")\n",
    "else:\n",
    "    print(\"é um numero impar\")"
   ]
  },
  {
   "cell_type": "code",
   "execution_count": null,
   "id": "7ca7caa0",
   "metadata": {},
   "outputs": [],
   "source": [
    "#Desafio 31 - desenvolva progama que pergunte a distancia de uma viagem em km\n",
    "#calcule o preçoda pássagem cobrando R$0,50 / km para viagem de ate 200km\n",
    "#calcule o preçoda pássagem cobrando R$0,45 / km para viagem de mais de 200km\n",
    "\n",
    "distancia = float(input(\"Qual foi a distância percorrida durante sua viagem: \"))\n",
    "\n",
    "if distancia <= 200:\n",
    "    preco = distancia * 0.50\n",
    "    print(f\"O valor da sua passagem é de R${preco:.2f}\")\n",
    "else:\n",
    "    preco = distancia * 0.45\n",
    "    print(f\"O valor da passagem de acordo com a distância é de R${preco:.2f}\")\n"
   ]
  },
  {
   "cell_type": "code",
   "execution_count": null,
   "id": "7a06bf2f",
   "metadata": {},
   "outputs": [],
   "source": [
    "#Desafio 32 - falça um progama que leia um ano qualquer e mostre se ele é bisexto\n",
    "\n",
    "ano = int(input(\"Digite o ano: \"))\n",
    "\n",
    "if ano % 4 == 0 and (ano % 100 != 0 or ano % 400 == 0):\n",
    "    print(f\"O ano {ano} é bissexto.\")\n",
    "else:\n",
    "    print(f\"O ano {ano} não é bissexto.\")\n"
   ]
  },
  {
   "cell_type": "code",
   "execution_count": null,
   "id": "31bfd19c",
   "metadata": {},
   "outputs": [],
   "source": [
    "#Desafio 33 - faça um programa que leia 3 numero e mostre qual é o maior e qual menor\n",
    "n1 = int(input(\"digite o primeiro numero:\"))\n",
    "n2 = int(input(\"digite o segundo numero:\"))\n",
    "n3 = int(input(\"digite o tercerio numero:\"))\n",
    "\n",
    "# Verificando o menor número\n",
    "menor = n1\n",
    "if n2 < menor:\n",
    "    menor = n2\n",
    "if n3 < menor:\n",
    "    menor = n3\n",
    "\n",
    "# Verificando o maior número\n",
    "maior = n1\n",
    "if n2 > maior:\n",
    "    maior = n2\n",
    "if n3 > maior:\n",
    "    maior = n3\n",
    "\n",
    "print(f\"O menor número é: {menor}\")\n",
    "print(f\"O maior número é: {maior}\")"
   ]
  },
  {
   "cell_type": "code",
   "execution_count": null,
   "id": "1670d156",
   "metadata": {},
   "outputs": [],
   "source": [
    "#Desafio 34 - escreva um progama que pergunte o salario de um fucnionario e calcule o seu aumento:\n",
    "#para salasrio superior a R$1.250,00 (aumento de 10%) para valor inferiores ou igual a R$1.250,00 aumento é de 15%$\n",
    "\n",
    "salario = float(input(\"Qual salario do funcionario: \"))\n",
    "\n",
    "#calculo do salario caso for > R$1.250.00\n",
    "if salario > 1250.00:\n",
    "    aumento = salario * 0.10\n",
    "    novo_valor = salario + aumento\n",
    "    print(f\"o reajuste com 10% foi de R${novo_valor: .2f}\")\n",
    "else:\n",
    "    reajuste = salario * 0.15\n",
    "    novo_valor = salario + reajuste\n",
    "    print(f\"o reajuste do salario foi de R${novo_valor: .2f}\")\n"
   ]
  },
  {
   "cell_type": "code",
   "execution_count": null,
   "id": "368ff07e",
   "metadata": {},
   "outputs": [],
   "source": [
    "#Desafio 35 - Desenvolva um programa que leia o comprimento de 3 retas e diga ao usuario se ele podem formar um triangulo\n",
    "l1 = int(input(\"digite o numero do lado 1:\"))\n",
    "l2 = int(input(\"digite o numero do lado 2:\"))\n",
    "l3 = int(input(\"digite o numero do lado 3:\"))\n",
    "\n",
    "if l1 + l2 > l3 and l2 + l3 > l1 and l1 + l3 > l2:\n",
    "    print(\"é possivel formar um triangulo\")\n",
    "else:\n",
    "    print(\"nao é possivel formar um triangulo\")\n"
   ]
  },
  {
   "cell_type": "code",
   "execution_count": null,
   "id": "ac4fb89d",
   "metadata": {},
   "outputs": [],
   "source": [
    "#Desafio 36 -  progama que aprove o emprestimo bancario para compra de uma casa:\n",
    "#o prgama pergunte qual valor da casa ?\n",
    "# o salario do comprador e quantos anos vai pagar\n",
    "#calcular o valor da prestação mensal (nao pode ultrapassar 30% do salario, caso ultrapasse, emprestimo sera negado)\n",
    "\n",
    "valor_casa = float(input(\"Qual é o valor da casa: \"))\n",
    "salario = float(input(\"Qual é o salário do comprador: \"))\n",
    "ano = int(input(\"Quantos anos deseja parcelar ?: \"))\n",
    "\n",
    "#prestação/ ano\n",
    "prestação = valor_casa / ano   \n",
    "\n",
    "#valor da prestação mensal (nao pode ultrapassar 30% do salario, caso ultrapasse, emprestimo sera negado)\n",
    "prestação_mensal = (prestação/12)\n",
    "\n",
    "if prestação_mensal > (salario * 0.30):\n",
    "    print(\"Emprestimo negado\")\n",
    "else:\n",
    "    print(f\"Emprestimo aprovado, o valor da suas prestação a serem pagas por mes é de {prestação_mensal} /mes.\")"
   ]
  },
  {
   "cell_type": "code",
   "execution_count": null,
   "id": "10917457",
   "metadata": {},
   "outputs": [],
   "source": [
    "#Desafio 37 - progama que leia um numero interio, e peça ao usuario que escolha para qaul sera a base de conversao\n",
    "#1 binario\n",
    "#2 octal\n",
    "#3 hexadecimal\n",
    "\n",
    "numero = int(input(\"Digite um número inteiro: \"))\n",
    "\n",
    "print(\"Escolha a base de conversão:\")\n",
    "print(\"1 - Binário\")\n",
    "print(\"2 - Octal\")\n",
    "print(\"3 - Hexadecimal\")\n",
    "\n",
    "opcao = int(input(\"Digite o número da opção desejada: \"))\n",
    "\n",
    "if opcao == 1:\n",
    "    resultado = bin(numero)\n",
    "    print(f\"O número {numero} convertido para binário é: {resultado}\")\n",
    "elif opcao == 2:\n",
    "    resultado = oct(numero)\n",
    "    print(f\"O número {numero} convertido para octal é: {resultado}\")\n",
    "elif opcao == 3:\n",
    "    resultado = hex(numero)\n",
    "    print(f\"O número {numero} convertido para hexadecimal é: {resultado}\")\n",
    "else:\n",
    "    print(\"Opção inválida. Por favor, escolha uma opção válida.\")\n"
   ]
  },
  {
   "cell_type": "code",
   "execution_count": null,
   "id": "000f3b71",
   "metadata": {},
   "outputs": [],
   "source": [
    "#Desafio 38 - programa que leia dois numero inteiros e comparando e mostrando na tela \n",
    "# primeiro valor maior\n",
    "# segundo valor maior\n",
    "# nao existe um valor maior, os dois sao iguais\n",
    "\n",
    "n1 = int(input(\"Digite o primeiro numero:\"))\n",
    "n2 = int(input(\"Digite o segundo numero:\"))\n",
    "\n",
    "if n1 < n2:\n",
    "    print(f\"o primeiro valor {n2} é maior que {n1}\")\n",
    "elif n1 > n2:\n",
    "    print(f\"O segundo valor {n1} é maior que {n2}\")\n",
    "elif n1 == n2:\n",
    "    print(\"nao existe valor maior ou menor, os dois numeros são iguais\")\n"
   ]
  },
  {
   "cell_type": "code",
   "execution_count": null,
   "id": "1c3a67f7",
   "metadata": {},
   "outputs": [],
   "source": [
    "#Desafio 39 - progama que leia o ano de nascimento de um joverm e informe:\n",
    "# se ele vai se alistar ao serviço militar\n",
    "# se é a hora de se alistar\n",
    "# se ja passou da hora de se alistar\n",
    "# deve contem o tempo que faltou ou passou do prazo\n",
    "\n",
    "from datetime import date\n",
    "\n",
    "ano_atual = date.today().year\n",
    "\n",
    "ano_nascimento = int(input(\"Digite o ano em que nasceu: \"))\n",
    "\n",
    "idade = ano_atual - ano_nascimento\n",
    "\n",
    "if idade < 18:\n",
    "    anos_restante = 18 - idade\n",
    "    print(f\"Voce tem {idade} anos. faltam {anos_restante} anos para se alistar no exercito.\")\n",
    "elif idade == 18:\n",
    "    print(\"Voce tem 18 anos. é hora de alistar\")\n",
    "else:\n",
    "    anos_passados = idade - 18\n",
    "    print(f\"Voce tem {idade} anos. Ja se passaram {anos_passados}, do prazo de se alistar.\") "
   ]
  },
  {
   "cell_type": "code",
   "execution_count": null,
   "id": "e5c5bd9b",
   "metadata": {},
   "outputs": [],
   "source": [
    "#Desafio 40 - programa que leia as duas notas e calcule a média\n",
    "# mostre ao final se a média foi atingida\n",
    "# media abaixo de 5 = reprovado\n",
    "# media entre 5 e 6.9 = recuperação\n",
    "# média 7 ou superior = aprovado\n",
    "\n",
    "nota_1 = float(input(\"Digite a primeira nota: \"))\n",
    "nota_2 = float(input(\"Digite a segunda nota: \"))\n",
    "\n",
    "media_nota = (nota_1 + nota_2) / 2\n",
    "print(\"Sua média foi:\", media_nota)\n",
    "\n",
    "if media_nota >= 7.0:\n",
    "    print(\"Aprovado\")\n",
    "elif media_nota >= 5.0:\n",
    "    print(\"Recuperação\")\n",
    "else:\n",
    "    print(\"Reprovado\")\n"
   ]
  },
  {
   "cell_type": "code",
   "execution_count": null,
   "id": "15da2dfc",
   "metadata": {},
   "outputs": [],
   "source": [
    "#Desafio 41 - programa que leia o ano de nascimento do atleta e mostre sua categoria:\n",
    "# ate 9 anos = mirim\n",
    "# ate 14 anos = infantil\n",
    "# ate 19 anos = junior\n",
    "# ate 20 anos = senior\n",
    "# acima = master \n",
    "\n",
    "from datetime import date\n",
    "\n",
    "ano_atual = date.today().year\n",
    "\n",
    "ano_nascimento = int(input(\"Digite o ano de nascimento: \"))\n",
    "\n",
    "idade = ano_atual - ano_nascimento\n",
    "\n",
    "if idade <= 9:\n",
    "    print(\"A categoria do atleta é MIRIM\")\n",
    "elif idade <= 14:\n",
    "    print(\"A categoria do atleta é INFANTIL\")\n",
    "elif idade <= 19:\n",
    "    print(\"A categoria do atleta é JUNIOR\")\n",
    "elif idade <= 20:\n",
    "    print(\"A categoria do atleta é SENIOR\")\n",
    "else:\n",
    "    print(\"A categoria do atleta é MASTER\")\n"
   ]
  },
  {
   "cell_type": "code",
   "execution_count": null,
   "id": "4747dc8f",
   "metadata": {},
   "outputs": [],
   "source": [
    "#Desafio 42 - refazer o desafio 35, acrescentando o recurso de mostrar que tipo de triangulo sera formado\n",
    "# quilatero (todos os lado iguais)\n",
    "# isósceles (dois lado iguais)\n",
    "# escaleno (todos os lados diferentes) \n",
    "\n",
    "l1 = int(input(\"Digite o valor do lado 1: \"))\n",
    "l2 = int(input(\"Digite o valor do lado 2: \"))\n",
    "l3 = int(input(\"Digite o valor do lado 3: \"))\n",
    "\n",
    "if l1 + l2 > l3 and l2 + l3 > l1 and l1 + l3 > l2:\n",
    "    print(\"É possível formar um triângulo\")\n",
    "\n",
    "    if l1 == l2 == l3:\n",
    "        print(\"Forma um triângulo equilátero\")\n",
    "    elif l1 == l2 or l1 == l3 or l2 == l3:\n",
    "        print(\"Forma um triângulo isósceles\")\n",
    "    else:\n",
    "        print(\"Forma um triângulo escaleno\")\n",
    "else:\n",
    "    print(\"Não é possível formar um triângulo\")\n",
    "\n",
    "\n",
    " \n",
    "\n",
    "\n"
   ]
  },
  {
   "cell_type": "code",
   "execution_count": null,
   "id": "16fa6abc",
   "metadata": {},
   "outputs": [],
   "source": [
    "#Desafio 43 - programa que leia o peso e altura e calcule o imc, e mostre \n",
    "# abaixo de 18.5: abaixo do peso\n",
    "# entre 18.5 e 25: peso ideal\n",
    "# 25 e 30: sobrepeso\n",
    "# 30 a 40: obesidade\n",
    "# acima de 40: obesidade morbida\n",
    "\n",
    "peso = float(input(\"Digite seu peso: \"))\n",
    "altura = float(input(\"Digite sua altura: \"))\n",
    "\n",
    "imc = peso / (altura * altura)\n",
    "\n",
    "if imc < 18.5:\n",
    "    print(\" voce esta abaixo do peso\")\n",
    "elif imc <= 25:\n",
    "    print(\" voce esta no peso ideal\")\n",
    "elif imc <= 30:\n",
    "    print(\"voce esta com sobrepeso\")\n",
    "elif imc <= 40:\n",
    "    print(\"voce esta com obesidade\")\n",
    "else:\n",
    "    print(\"voce esta com obesidade morbida\")"
   ]
  },
  {
   "cell_type": "code",
   "execution_count": null,
   "id": "6e936f6f",
   "metadata": {},
   "outputs": [],
   "source": [
    "#Desafio 44 - Programa que calcule o valor a ser pago por um produto, considere: preço normal e condição de pagamento\n",
    "# preçio a vista: dinheirou/cheque 10% de desconto\n",
    "# a vista no cartão: 5% de desconto:\n",
    "# em ate 2x no cartao: preço normal\n",
    "# em ate 3x ou mais no cartao: 20% de juros\n",
    "\n",
    "valor_produto = float(input(\"Insira o valor do produto: \"))\n",
    "\n",
    "print(\"Escolha uma opção como forma de pagamento: \")\n",
    "print(\"1 - para pagamento à vista em dinheiro/cheque (10% de desconto)\")\n",
    "print(\"2 - para pagamento à vista no cartão (5% de desconto)\")\n",
    "print(\"3 - para pagamento em até 2x no cartão (preço normal)\")\n",
    "print(\"4 - para pagamento em 3x ou mais no cartão (20% de juros)\")\n",
    "\n",
    "pagamento = int(input(\"Escolha uma opção de pagamento: \"))\n",
    "\n",
    "if pagamento == 1:\n",
    "    valor_final = valor_produto - (valor_produto * 0.10)\n",
    "    print(f\"O valor a ser pago é de R$ {valor_final:.2f}\")\n",
    "elif pagamento == 2:\n",
    "    valor_final = valor_produto - (valor_produto * 0.05)\n",
    "    print(f\"O valor a ser pago é de R$ {valor_final:.2f}\")\n",
    "elif pagamento == 3:\n",
    "    valor_final = valor_produto\n",
    "    print(f\"O valor a ser pago é de R$ {valor_final:.2f}\")\n",
    "elif pagamento == 4:\n",
    "    valor_final = valor_produto + (valor_produto * 0.20)\n",
    "    print(f\"O valor a ser pago é de R$ {valor_final:.2f}\")\n",
    "else:\n",
    "    print(\"Opção de pagamento inválida!\")\n"
   ]
  },
  {
   "cell_type": "code",
   "execution_count": null,
   "id": "70777c2f",
   "metadata": {},
   "outputs": [],
   "source": [
    "#Desafio 45 - Programa que jogue jokenpô\n",
    "import random\n",
    "from time import sleep\n",
    "\n",
    "opcoes = [\"pedra\", \"papel\", \"tesoura\"]\n",
    "print(\"Vamos jogar Jokenpô!\")\n",
    "\n",
    "opcao_computador = random.choice(opcoes)\n",
    "print(opcao_computador)\n",
    "\n",
    "print(\"Escolha uma das opções abaixo:\")\n",
    "print(\"[ 0 ] Pedra\")\n",
    "print(\"[ 1 ] Papel\")\n",
    "print(\"[ 2 ] Tesoura\")\n",
    "\n",
    "opcao_jogador = int(input(\"Escolha uma opção (0, 1 ou 2): \"))\n",
    "if opcao_jogador not in [0, 1, 2]:\n",
    "    print(\"Opção inválida!\")\n",
    "else:\n",
    "    jogador = opcoes[opcao_jogador]\n",
    "    print(f\"Você escolheu {jogador}!\")\n",
    "\n",
    "    print(\"JOKEEEEENNNNPO!!!\")\n",
    "    sleep(1)\n",
    "    print(\"PO!!!\")\n",
    "    sleep(1)\n",
    "    print(\"PÔ!!!\")\n",
    "    sleep(1)\n",
    "\n",
    "    print(f\"Computador jogou {opcao_computador}!\")\n",
    "    print(f\"Jogador jogou {jogador}!\")\n",
    "\n",
    "    if opcao_computador == jogador:\n",
    "        print(\"Empate!\")\n",
    "    elif (\n",
    "        (opcao_computador == \"pedra\" and jogador == \"tesoura\")\n",
    "        or (opcao_computador == \"papel\" and jogador == \"pedra\")\n",
    "        or (opcao_computador == \"tesoura\" and jogador == \"papel\")\n",
    "    ):\n",
    "        print(\"Computador venceu!\")\n",
    "    else:\n",
    "        print(\"Jogador venceu!\")\n"
   ]
  },
  {
   "cell_type": "code",
   "execution_count": null,
   "id": "cf1c1e2e",
   "metadata": {},
   "outputs": [],
   "source": []
  },
  {
   "cell_type": "code",
   "execution_count": null,
   "id": "0c0cd2bc",
   "metadata": {},
   "outputs": [],
   "source": []
  },
  {
   "cell_type": "code",
   "execution_count": null,
   "id": "dc2e7aa9",
   "metadata": {},
   "outputs": [],
   "source": []
  }
 ],
 "metadata": {
  "kernelspec": {
   "display_name": "Python 3 (ipykernel)",
   "language": "python",
   "name": "python3"
  },
  "language_info": {
   "codemirror_mode": {
    "name": "ipython",
    "version": 3
   },
   "file_extension": ".py",
   "mimetype": "text/x-python",
   "name": "python",
   "nbconvert_exporter": "python",
   "pygments_lexer": "ipython3",
   "version": "3.11.3"
  }
 },
 "nbformat": 4,
 "nbformat_minor": 5
}
