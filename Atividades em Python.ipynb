{
 "cells": [
  {
   "cell_type": "code",
   "execution_count": 2,
   "id": "a3b70d02",
   "metadata": {},
   "outputs": [
    {
     "name": "stdout",
     "output_type": "stream",
     "text": [
      "digite um numero:1997\n",
      "digite outro numero: 2\n",
      "a soma de a é 1999;\n",
      " a subtração 1995;\n",
      " a multiplicação é 3994;\n",
      " a divisao é 998.5;\n",
      " a potencia é 3988009\n"
     ]
    }
   ],
   "source": [
    "n1 = int(input(\"digite um numero:\"))\n",
    "n2 = int(input(\"digite outro numero: \"))\n",
    "a = n1 + n2\n",
    "b = n1 - n2\n",
    "c = n1 * n2\n",
    "d = n1 / n2\n",
    "e = n1 ** n2\n",
    "\n",
    "print(f\"a soma de a é {a};\\n a subtração {b};\\n a multiplicação é {c};\")\n",
    "print(f\" a divisao é {d};\\n a potencia é {e}\")"
   ]
  },
  {
   "cell_type": "code",
   "execution_count": 5,
   "id": "f98632d3",
   "metadata": {},
   "outputs": [
    {
     "name": "stdout",
     "output_type": "stream",
     "text": [
      "digite um numero:1562\n",
      "os antecessores e sucessores 1562, sao 1561, e 1563\n"
     ]
    }
   ],
   "source": [
    "#Desafio 05 - digite um numero e mostre seu antecessor e seu sucessor\n",
    "n1 = int(input(\"digite um numero:\"))\n",
    "a = n1 - 1\n",
    "b = n1 + 1\n",
    "print(f\"os antecessores e sucessores {n1}, sao {a}, e {b}\")"
   ]
  },
  {
   "cell_type": "code",
   "execution_count": 17,
   "id": "c02eea09",
   "metadata": {},
   "outputs": [
    {
     "name": "stdout",
     "output_type": "stream",
     "text": [
      "digite um numero: 159\n",
      "os devido valores de 159, são:\n",
      " DOBRO:318;\n",
      " o TRIPLO:477;\n",
      " RAIZ:12.61.\n"
     ]
    }
   ],
   "source": [
    "#Desafio 06 - \n",
    "n1 = int(input(\"digite um numero: \"))\n",
    "a = n1*2\n",
    "b = n1*3\n",
    "c = round(n1 ** (1/2), 2)\n",
    "\n",
    "print(f\"os devido valores de {n1}, são:\\n DOBRO:{a};\\n o TRIPLO:{b};\\n RAIZ:{c}\")"
   ]
  },
  {
   "cell_type": "code",
   "execution_count": null,
   "id": "90b367f3",
   "metadata": {},
   "outputs": [],
   "source": [
    "n1 = float(input(\"digite a nota do aluno: \"))\n",
    "n2 = float(input(\"digite outra nota do aluno: \"))\n",
    "a = round((n1 + n2) / 2)\n",
    "if a > 7:\n",
    "    print(f\"Aprovadoa média do aluno é {a}\")\n",
    "elif a == 7:\n",
    "    print(f\"Aprovado, a média do aluno é {a}\")\n",
    "else:\n",
    "    print(f\"Reprovado,a média do aluno é {a}\")"
   ]
  },
  {
   "cell_type": "code",
   "execution_count": 6,
   "id": "703b4ce3",
   "metadata": {},
   "outputs": [
    {
     "name": "stdout",
     "output_type": "stream",
     "text": [
      "Digite o valor em metros: 250\n",
      "o valor de 250.0 metros \n",
      " valor de centimetros é 25000.0\n",
      " o valor milimetros é 250000.0\n"
     ]
    }
   ],
   "source": [
    "n1 = float(input(\"Digite o valor em metros: \"))\n",
    "a = n1 * 100\n",
    "b = n1 * 1000\n",
    "print(f\"o valor de {n1} metros,\\n centimetros é {a},\\n milimetros {b}\")"
   ]
  },
  {
   "cell_type": "code",
   "execution_count": null,
   "id": "a957dcd7",
   "metadata": {},
   "outputs": [],
   "source": []
  },
  {
   "cell_type": "code",
   "execution_count": 9,
   "id": "560b81bd",
   "metadata": {},
   "outputs": [
    {
     "name": "stdout",
     "output_type": "stream",
     "text": [
      "Digite um numero: 65\n",
      "65 x 1 = 65\n",
      "65 x 2 = 130\n",
      "65 x 3 = 195\n",
      "65 x 4 = 260\n",
      "65 x 5 = 325\n",
      "65 x 6 = 390\n",
      "65 x 7 = 455\n",
      "65 x 8 = 520\n",
      "65 x 9 = 585\n",
      "65 x 10 = 650\n"
     ]
    }
   ],
   "source": [
    "#Desafio 09\n",
    "n1 = int(input(\"Digite um numero: \"))\n",
    "for i in range(1, 11):\n",
    "    resultado = n1 * i\n",
    "    print(f\"{n1} x {i} = {resultado}\")\n"
   ]
  },
  {
   "cell_type": "code",
   "execution_count": 2,
   "id": "1ef8950a",
   "metadata": {},
   "outputs": [
    {
     "name": "stdout",
     "output_type": "stream",
     "text": [
      "Qual valor de dinheiro na carteira em reais: 900\n",
      "Os valores em dolar que podemos comprar é de $169.81\n"
     ]
    }
   ],
   "source": [
    "#Desafio 10\n",
    "n1 = float(input(\"Qual valor de dinheiro, R$: \")) #valore em reias\n",
    "n2 = 5.30 #taxa de cambio\n",
    "x = round(n1 / n2, 2) \n",
    "print(f\"Os valores em dolar que podemos comprar é de US${x}\")"
   ]
  },
  {
   "cell_type": "code",
   "execution_count": 5,
   "id": "0680135d",
   "metadata": {},
   "outputs": [
    {
     "name": "stdout",
     "output_type": "stream",
     "text": [
      "valor da altura: 3\n",
      "valor da largura: 4\n",
      " a area calculada da parede é de 12m², e sera utilizado 6.0L de tinta para pintar a parede\n"
     ]
    }
   ],
   "source": [
    "#Desafio 11 - LER Altura x largura; calcular area; nªtinta para pintar (1l tinta pinta = 2m²) \n",
    "a = float(input(\"valor da altura: \"))\n",
    "b = float(input(\"valor da largura: \"))\n",
    "x = a * b #calculo da area\n",
    "y = x / 2\n",
    "print(f\" a area calculada da parede é de {x}m², e sera utilizado {y}L de tinta para pintar a parede\")\n"
   ]
  },
  {
   "cell_type": "code",
   "execution_count": 7,
   "id": "4839a4ae",
   "metadata": {},
   "outputs": [
    {
     "name": "stdout",
     "output_type": "stream",
     "text": [
      "Digite o valor do produto: 79.99\n",
      "o novo valor do produto com 5% de desconte sera de R$76\n"
     ]
    }
   ],
   "source": [
    "#Desafio 12 - algoritmo que leia preço de um produto, mostrando novo preço com 5% de desconto\n",
    "x = float(input(\"Digite o valor do produto: \"))\n",
    "y = x * 0.05\n",
    "novo_preco = round(x - y)\n",
    "print(f\"o novo valor do produto com 5% de desconte sera de R${novo_preco}\")"
   ]
  },
  {
   "cell_type": "code",
   "execution_count": 1,
   "id": "86bcedf6",
   "metadata": {},
   "outputs": [
    {
     "name": "stdout",
     "output_type": "stream",
     "text": [
      "valor do salario do funcionario: 4319.43\n",
      " o novo salario do funcionario com aumento de 15% sera de R$:4967\n"
     ]
    }
   ],
   "source": [
    "#Desafio 13 - algoratimo que leia o salario de funcionario e mostre novo salario, com 15% de aumento\n",
    "x = float(input(\"valor do salario do funcionario: \"))\n",
    "y = x * 0.15\n",
    "novo_salario = round(x + y)\n",
    "print(f\" o novo salario do funcionario com aumento de 15% sera de R$:{novo_salario}\")"
   ]
  },
  {
   "cell_type": "code",
   "execution_count": 4,
   "id": "5e8bc9e7",
   "metadata": {},
   "outputs": [
    {
     "name": "stdout",
     "output_type": "stream",
     "text": [
      "Qual temperatura em ºc: 10\n",
      "a temperatura em celsius é:10.0ºc,\n",
      " em Fahrenheit é:50.0ºF,\n",
      " em Kelvins é :283.15 \n"
     ]
    }
   ],
   "source": [
    "#Desafio 14 - Transformando as temperatura\n",
    "c = float(input(\"Qual temperatura em ºc: \"))\n",
    "f = (c * 1.8) + 32\n",
    "k = c + 273.15\n",
    "print(f\"a temperatura em celsius é:{c}ºc,\\n em Fahrenheit é:{f}ºF,\\n em Kelvins é :{k} \")"
   ]
  },
  {
   "cell_type": "code",
   "execution_count": 15,
   "id": "47a0a288",
   "metadata": {},
   "outputs": [
    {
     "name": "stdout",
     "output_type": "stream",
     "text": [
      "Qual a quantidade de km rodado ?: 274.56\n",
      "Qual a quantidade de dias alugados?: 15\n",
      "o preço total a pagar é: R$941.18\n"
     ]
    }
   ],
   "source": [
    "#Desafio 15 - elabore um algoritimo que pergunte a quantidade km, por um carro alugado;\n",
    "#Quantidade de dias que foi alugado; calcular o preço a pagar (R$60/dia e R$0,15/km)\n",
    "k = float(input(\"Qual a quantidade de km rodado ?: \"))\n",
    "d = int(input(\"Qual a quantidade de dias alugados?: \"))\n",
    "x = (60 * d) + (0.15 * k)\n",
    "print(f\"o preço total a pagar é: R${x:.2f}\")\n"
   ]
  },
  {
   "cell_type": "code",
   "execution_count": null,
   "id": "8474ab5b",
   "metadata": {
    "is_executing": true
   },
   "outputs": [],
   "source": [
    "import math\n",
    "n = int(input(\"Digite um numero: \"))\n",
    "raiz = math.sqrt(n)\n",
    "print(f\"a raiz de {n} é igual a {raiz:.2f}\")"
   ]
  },
  {
   "cell_type": "code",
   "execution_count": 2,
   "id": "d623665f",
   "metadata": {},
   "outputs": [
    {
     "name": "stdout",
     "output_type": "stream",
     "text": [
      "Digite um numero inteiro: 5.85\n",
      "o valor do numero real 5.85 tem como sua porção inteira 5\n"
     ]
    }
   ],
   "source": [
    "#Desafio 16 - crie um programa que leia um numero real e mostre na tela a sua porção inteira\n",
    "from math import trunc\n",
    "n = float(input(\"Digite um numero inteiro: \"))\n",
    "x = trunc(n)\n",
    "print(f\"o valor do numero real {n} tem como sua porção inteira {x}\")"
   ]
  },
  {
   "cell_type": "code",
   "execution_count": 3,
   "id": "229b97a3",
   "metadata": {},
   "outputs": [
    {
     "name": "stdout",
     "output_type": "stream",
     "text": [
      "Digite o lado a do trigulo: 2\n",
      "Digite o lado b do tringulo: 2.5\n",
      "o valor de hipoternusa é: 3.20\n"
     ]
    }
   ],
   "source": [
    "#Desafio 17 - Programa que leia comprimento do cateto oposto e adjacente de um triangulo;\n",
    "#calcule e mostre o comprimento da hipoternusa\n",
    "import math\n",
    "x = float(input(\"Digite o lado a do trigulo: \"))\n",
    "y = float(input(\"Digite o lado b do tringulo: \"))\n",
    "# h = (x ** 2 + y ** 2) ** 0.5  \"metodo matematico\" \n",
    "hi = math.hypot(x, y)\n",
    "\n",
    "print(f\"o valor de hipoternusa é: {hi:.2f}\")\n",
    "\n",
    "\n"
   ]
  },
  {
   "cell_type": "code",
   "execution_count": 18,
   "id": "4aa6c15e",
   "metadata": {},
   "outputs": [
    {
     "name": "stdout",
     "output_type": "stream",
     "text": [
      "Digite o valor do angulo: °90\n",
      "sen: 1.00\n",
      "con: 0.00\n",
      "tan: 16331239353195370.00\n"
     ]
    }
   ],
   "source": [
    "#Desafio 18 - faça um programa que leia um angulo qualquer emostre na tela o valor de sen; cos; teg\n",
    "import math\n",
    "a = int(input(\"Digite o valor do angulo: °\"))\n",
    "x = math.radians(a)\n",
    "valor_sen = math.sin(x)\n",
    "valor_cos = math.cos(x)\n",
    "valor_tan = math.tan(x)\n",
    "print(f\"sen: {valor_sen:.2f}\")\n",
    "print(f\"con: {valor_cos:.2f}\")\n",
    "print(f\"tan: {valor_tan:.2f}\")\n",
    "\n"
   ]
  },
  {
   "cell_type": "code",
   "execution_count": 1,
   "id": "4a566613",
   "metadata": {},
   "outputs": [
    {
     "name": "stdout",
     "output_type": "stream",
     "text": [
      " nome aleatorio sorteado foi: Maria\n"
     ]
    }
   ],
   "source": [
    "#Desafio 19 - algoritimo onde ira sortear um nome de um aluno dentro da sala de aula\n",
    "import random\n",
    "nomes = ['João', 'Maria', 'Pedro', 'Ana', 'Carlos', 'Mariana', 'Lucas', 'Isabela']\n",
    "sorteio = random.choice(nomes)\n",
    "print(f\" nome aleatorio sorteado foi: {sorteio}\")\n",
    "\n",
    "\n"
   ]
  },
  {
   "cell_type": "code",
   "execution_count": 42,
   "id": "e06b974e",
   "metadata": {},
   "outputs": [
    {
     "name": "stdout",
     "output_type": "stream",
     "text": [
      "nomes sorteados foram: ['Carlos', 'Pedro', 'João', 'Maria']\n"
     ]
    }
   ],
   "source": [
    "#Desafio 20 - algoritimo onde ira sortear nomes dos alunos dentro da sala de aula.\n",
    "import random\n",
    "alunos = ['João', 'Maria', 'Pedro', 'Ana', 'Carlos', 'Mariana', 'Lucas', 'Isabela']\n",
    "sorteio = random.sample(alunos, k=4)\n",
    "print(f\"nomes sorteados foram: {sorteio}\")\n",
    "\n",
    "\n"
   ]
  },
  {
   "cell_type": "code",
   "execution_count": 46,
   "id": "31547dbf",
   "metadata": {},
   "outputs": [
    {
     "name": "stdout",
     "output_type": "stream",
     "text": [
      "Requirement already satisfied: pygame in c:\\users\\pichau\\anaconda3\\lib\\site-packages (2.4.0)\n",
      "pygame 2.4.0 (SDL 2.26.4, Python 3.10.9)\n",
      "Hello from the pygame community. https://www.pygame.org/contribute.html\n"
     ]
    }
   ],
   "source": [
    "#Desafio 21 - faça um programa que abra e reproduza um arquivo de audio.mp3\n",
    "!pip install pygame\n",
    "\n"
   ]
  },
  {
   "cell_type": "code",
   "execution_count": null,
   "id": "30fc1059",
   "metadata": {},
   "outputs": [],
   "source": [
    "#imprtar a biblioteca pygame\n",
    "import pygame\n",
    "#iniciar o mixer pygame\n",
    "pygame.mixer.init()\n",
    "#carregar um arquivo mp3\n",
    "pygame.mixer.music.load(\"C:\\\\Users\\\\Pichau\\\\Downloads\\\\innerbloom.mp3\")\n",
    "#Reproduzir o audio\n",
    "pygame.mixer.music.play()\n",
    "#mantem o programa em execução ate a reprodução concluir:\n",
    "while pygame.mixer.music.get_busy():\n",
    "    continue\n",
    "\n",
    "\n"
   ]
  },
  {
   "cell_type": "code",
   "execution_count": null,
   "id": "e263a0f3",
   "metadata": {},
   "outputs": [],
   "source": [
    "import pygame\n",
    "\n",
    "# Inicializar o mixer do pygame\n",
    "pygame.mixer.init()\n",
    "\n",
    "# Carregar o arquivo de áudio\n",
    "pygame.mixer.music.load(\"C:\\\\Users\\\\Pichau\\\\Downloads\\\\innerbloom.mp3\")\n",
    "\n",
    "# Reproduzir o áudio\n",
    "pygame.mixer.music.play()\n",
    "\n",
    "# Manter o programa em execução até a reprodução ser concluída\n",
    "while pygame.mixer.music.get_busy():\n",
    "    # Verificar se o usuário pressionou a tecla 'P' para pausar\n",
    "    if pygame.key.get_pressed()[pygame.K_p]:\n",
    "        pygame.mixer.music.pause()\n",
    "        print(\"Pausado\")\n",
    "    \n",
    "    # Verificar se o usuário pressionou a tecla 'R' para retomar a reprodução\n",
    "    if pygame.key.get_pressed()[pygame.K_r]:\n",
    "        pygame.mixer.music.unpause()\n",
    "        print(\"Retomado\")\n"
   ]
  },
  {
   "cell_type": "code",
   "execution_count": null,
   "id": "afac283c",
   "metadata": {},
   "outputs": [],
   "source": []
  },
  {
   "cell_type": "code",
   "execution_count": null,
   "id": "5b13c652",
   "metadata": {},
   "outputs": [],
   "source": []
  },
  {
   "cell_type": "code",
   "execution_count": null,
   "id": "8c9f23a7",
   "metadata": {},
   "outputs": [],
   "source": []
  },
  {
   "cell_type": "code",
   "execution_count": 49,
   "id": "a1694e1c",
   "metadata": {},
   "outputs": [
    {
     "name": "stdout",
     "output_type": "stream",
     "text": [
      "0.6394267984578837\n",
      "0.6394267984578837\n"
     ]
    }
   ],
   "source": [
    "\n"
   ]
  }
 ],
 "metadata": {
  "kernelspec": {
   "display_name": "Python 3 (ipykernel)",
   "language": "python",
   "name": "python3"
  },
  "language_info": {
   "codemirror_mode": {
    "name": "ipython",
    "version": 3
   },
   "file_extension": ".py",
   "mimetype": "text/x-python",
   "name": "python",
   "nbconvert_exporter": "python",
   "pygments_lexer": "ipython3",
   "version": "3.10.9"
  }
 },
 "nbformat": 4,
 "nbformat_minor": 5
}
